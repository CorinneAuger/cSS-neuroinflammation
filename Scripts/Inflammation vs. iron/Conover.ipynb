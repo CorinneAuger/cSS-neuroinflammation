{
 "cells": [
  {
   "cell_type": "code",
   "execution_count": 31,
   "metadata": {},
   "outputs": [
    {
     "data": {
      "text/plain": [
       "array([[ 2.16475503,  2.87476394,  4.72959879,  8.78720506],\n",
       "       [ 0.93723512,  0.91924186,  3.15300272,  4.44932437],\n",
       "       [ 0.89312109,  1.61101016,  4.28447643,  7.29036945],\n",
       "       [ 4.00695459,         nan,         nan,  4.71569398],\n",
       "       [ 1.51736419,  1.12341878,         nan,         nan],\n",
       "       [ 1.98297465,  6.50722131, 10.79053175,  7.97799253],\n",
       "       [ 3.52216178,  9.26014641, 11.66965276,         nan],\n",
       "       [ 3.16848821,         nan,         nan,         nan],\n",
       "       [ 1.72630065,  3.64887296,  5.0703813 , 15.88536304],\n",
       "       [ 5.87244869,  9.49997236, 22.58274036, 23.00967091],\n",
       "       [ 4.11426428,  5.53541804,  8.03341033, 19.08238938],\n",
       "       [18.12742119, 15.01863789, 25.36480944, 16.78603744],\n",
       "       [ 2.55139587,  2.97411059,  0.8999829 ,  4.59213206],\n",
       "       [13.7841815 ,  6.52908266,         nan,         nan],\n",
       "       [ 3.51875981,  3.27356787,  6.44225378, 11.74660596],\n",
       "       [ 5.12865003,  6.88278354, 16.87249564, 29.80499238],\n",
       "       [ 0.41700276,  0.        ,         nan,         nan],\n",
       "       [ 0.56345516,  0.        ,         nan,         nan],\n",
       "       [ 1.70350122,  6.50073087, 19.05869186, 17.69394986]])"
      ]
     },
     "execution_count": 31,
     "metadata": {},
     "output_type": "execute_result"
    }
   ],
   "source": [
    "# Import packages\n",
    "import scikit_posthocs as sp\n",
    "import scipy\n",
    "import numpy as np\n",
    "\n",
    "workspace = scipy.io.loadmat('/Volumes/Corinne hard drive/cSS project/Saved data/One-pixel interval analysis/GFAP/Composite/All_brains_GFAP_iron_intervals.mat')\n",
    "data = workspace['all_means']\n",
    "#data = np.nan_to_num(data, nan=1)\n",
    "data = data[~np.isnan(data).all(axis=1)]\n",
    "data[[-2, -1]] = data[[-1, -2]]\n",
    "data\n"
   ]
  },
  {
   "cell_type": "code",
   "execution_count": 32,
   "metadata": {},
   "outputs": [
    {
     "name": "stdout",
     "output_type": "stream",
     "text": [
      "     0    1    2    3\n",
      "0  1.0  NaN  NaN  NaN\n",
      "1  NaN  1.0  NaN  NaN\n",
      "2  NaN  NaN  1.0  NaN\n",
      "3  NaN  NaN  NaN  1.0\n"
     ]
    },
    {
     "name": "stderr",
     "output_type": "stream",
     "text": [
      "/Library/Frameworks/Python.framework/Versions/3.10/lib/python3.10/site-packages/scikit_posthocs/_posthocs.py:695: RuntimeWarning: invalid value encountered in sqrt\n",
      "  tval = dif / np.sqrt(A) / np.sqrt(B)\n"
     ]
    }
   ],
   "source": [
    "result = sp.posthoc_conover_friedman(data, p_adjust=\"fdr_bh\")\n",
    "\n",
    "print(result)"
   ]
  },
  {
   "cell_type": "code",
   "execution_count": 5,
   "metadata": {},
   "outputs": [
    {
     "name": "stderr",
     "output_type": "stream",
     "text": [
      "/Library/Frameworks/Python.framework/Versions/3.10/lib/python3.10/site-packages/scikit_posthocs/_posthocs.py:695: RuntimeWarning: invalid value encountered in sqrt\n",
      "  tval = dif / np.sqrt(A) / np.sqrt(B)\n"
     ]
    },
    {
     "data": {
      "text/html": [
       "<div>\n",
       "<style scoped>\n",
       "    .dataframe tbody tr th:only-of-type {\n",
       "        vertical-align: middle;\n",
       "    }\n",
       "\n",
       "    .dataframe tbody tr th {\n",
       "        vertical-align: top;\n",
       "    }\n",
       "\n",
       "    .dataframe thead th {\n",
       "        text-align: right;\n",
       "    }\n",
       "</style>\n",
       "<table border=\"1\" class=\"dataframe\">\n",
       "  <thead>\n",
       "    <tr style=\"text-align: right;\">\n",
       "      <th></th>\n",
       "      <th>0</th>\n",
       "      <th>1</th>\n",
       "      <th>2</th>\n",
       "      <th>3</th>\n",
       "      <th>4</th>\n",
       "    </tr>\n",
       "  </thead>\n",
       "  <tbody>\n",
       "    <tr>\n",
       "      <th>0</th>\n",
       "      <td>1.0</td>\n",
       "      <td>NaN</td>\n",
       "      <td>NaN</td>\n",
       "      <td>NaN</td>\n",
       "      <td>NaN</td>\n",
       "    </tr>\n",
       "    <tr>\n",
       "      <th>1</th>\n",
       "      <td>NaN</td>\n",
       "      <td>1.0</td>\n",
       "      <td>NaN</td>\n",
       "      <td>NaN</td>\n",
       "      <td>NaN</td>\n",
       "    </tr>\n",
       "    <tr>\n",
       "      <th>2</th>\n",
       "      <td>NaN</td>\n",
       "      <td>NaN</td>\n",
       "      <td>1.0</td>\n",
       "      <td>NaN</td>\n",
       "      <td>NaN</td>\n",
       "    </tr>\n",
       "    <tr>\n",
       "      <th>3</th>\n",
       "      <td>NaN</td>\n",
       "      <td>NaN</td>\n",
       "      <td>NaN</td>\n",
       "      <td>1.0</td>\n",
       "      <td>NaN</td>\n",
       "    </tr>\n",
       "    <tr>\n",
       "      <th>4</th>\n",
       "      <td>NaN</td>\n",
       "      <td>NaN</td>\n",
       "      <td>NaN</td>\n",
       "      <td>NaN</td>\n",
       "      <td>1.0</td>\n",
       "    </tr>\n",
       "  </tbody>\n",
       "</table>\n",
       "</div>"
      ],
      "text/plain": [
       "     0    1    2    3    4\n",
       "0  1.0  NaN  NaN  NaN  NaN\n",
       "1  NaN  1.0  NaN  NaN  NaN\n",
       "2  NaN  NaN  1.0  NaN  NaN\n",
       "3  NaN  NaN  NaN  1.0  NaN\n",
       "4  NaN  NaN  NaN  NaN  1.0"
      ]
     },
     "execution_count": 5,
     "metadata": {},
     "output_type": "execute_result"
    }
   ],
   "source": [
    "x = [[1,2,3,5,1], [12,31,54, np.nan, np.nan], [10,12,6,74,11]]\n",
    "sp.posthoc_conover(x)"
   ]
  }
 ],
 "metadata": {
  "kernelspec": {
   "display_name": "Python 3",
   "language": "python",
   "name": "python3"
  },
  "language_info": {
   "codemirror_mode": {
    "name": "ipython",
    "version": 3
   },
   "file_extension": ".py",
   "mimetype": "text/x-python",
   "name": "python",
   "nbconvert_exporter": "python",
   "pygments_lexer": "ipython3",
   "version": "3.10.3"
  },
  "orig_nbformat": 4,
  "vscode": {
   "interpreter": {
    "hash": "aee8b7b246df8f9039afb4144a1f6fd8d2ca17a180786b69acc140d282b71a49"
   }
  }
 },
 "nbformat": 4,
 "nbformat_minor": 2
}
